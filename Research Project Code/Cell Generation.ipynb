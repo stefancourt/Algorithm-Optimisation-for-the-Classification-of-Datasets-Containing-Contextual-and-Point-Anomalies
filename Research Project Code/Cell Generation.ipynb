{
 "cells": [
  {
   "cell_type": "code",
   "execution_count": 8,
   "id": "bd264817-6c6f-476e-bd02-f135cc13402a",
   "metadata": {},
   "outputs": [],
   "source": [
    "import pandas as pd\n",
    "import numpy as np\n",
    "import matplotlib.pyplot as plt\n",
    "from sklearn.ensemble import RandomForestRegressor\n",
    "from sklearn.model_selection import train_test_split\n",
    "from typing import Union"
   ]
  },
  {
   "cell_type": "code",
   "execution_count": 9,
   "id": "48039437-bf9f-446a-8ffd-0aaa448db771",
   "metadata": {},
   "outputs": [],
   "source": [
    "%run Classification.ipynb"
   ]
  },
  {
   "cell_type": "code",
   "execution_count": 10,
   "id": "bbad315a-a204-4208-808a-baa4eeb8bd5d",
   "metadata": {},
   "outputs": [],
   "source": [
    "def cell_generation(dataframe: pd.DataFrame, column: str, filename: str) -> pd.DataFrame:\n",
    "\n",
    "    if not dataframe[column].isna().any():\n",
    "        return dataframe \n",
    "        \n",
    "    X = dataframe.drop(columns=[column])\n",
    "    y = dataframe[column]\n",
    "\n",
    "    known_values = y.notna()\n",
    "    unknown_values = y.isna()\n",
    "\n",
    "    X_train = X[known_values]\n",
    "    y_train = y[known_values]\n",
    "\n",
    "    X_test = X[unknown_values]\n",
    "\n",
    "    model = RandomForestRegressor(n_estimators=100, random_state=42)\n",
    "    model.fit(X_train, y_train)\n",
    "\n",
    "    y_pred = model.predict(X_test)\n",
    "\n",
    "    dataframe.loc[dataframe.index[unknown_values], column] = y_pred\n",
    "    \n",
    "    dataframe.to_csv(filename, index=False)\n",
    "    \n",
    "    return dataframe"
   ]
  },
  {
   "cell_type": "code",
   "execution_count": 11,
   "id": "ce31ef25-1815-46e8-9fac-ef2006780267",
   "metadata": {},
   "outputs": [],
   "source": [
    "def generate_cell_values(nrows: int, graphs=False) -> None:\n",
    "    for df_name, file_path in anomalous_datasets.items():\n",
    "        df = pd.read_csv(file_path,nrows=nrows)\n",
    "        used_cols = [col for col in df.columns if df[col].nunique() > 50]\n",
    "        for col in used_cols:\n",
    "            df = cell_generation(df, col, file_path)\n",
    "        classify(df, file_path, graphs=graphs)"
   ]
  }
 ],
 "metadata": {
  "kernelspec": {
   "display_name": "venv",
   "language": "python",
   "name": "venv"
  },
  "language_info": {
   "codemirror_mode": {
    "name": "ipython",
    "version": 3
   },
   "file_extension": ".py",
   "mimetype": "text/x-python",
   "name": "python",
   "nbconvert_exporter": "python",
   "pygments_lexer": "ipython3",
   "version": "3.11.9"
  }
 },
 "nbformat": 4,
 "nbformat_minor": 5
}
