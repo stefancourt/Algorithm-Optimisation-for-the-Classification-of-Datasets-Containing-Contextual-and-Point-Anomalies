{
 "cells": [
  {
   "cell_type": "code",
   "execution_count": 1,
   "id": "bd264817-6c6f-476e-bd02-f135cc13402a",
   "metadata": {},
   "outputs": [],
   "source": [
    "import pandas as pd\n",
    "import numpy as np\n",
    "import matplotlib.pyplot as plt\n",
    "from sklearn.ensemble import RandomForestRegressor\n",
    "from sklearn.model_selection import train_test_split\n",
    "from typing import Union"
   ]
  },
  {
   "cell_type": "code",
   "execution_count": 2,
   "id": "48039437-bf9f-446a-8ffd-0aaa448db771",
   "metadata": {},
   "outputs": [
    {
     "name": "stdout",
     "output_type": "stream",
     "text": [
      "['Previous qualification (grade)', 'Admission grade', 'Curricular units 1st sem (grade)', 'Curricular units 2nd sem (grade)']\n"
     ]
    }
   ],
   "source": [
    "%run Classification.ipynb"
   ]
  },
  {
   "cell_type": "code",
   "execution_count": 3,
   "id": "b4a1e23b-6ede-4994-ae1a-d4907e4f0ea3",
   "metadata": {},
   "outputs": [],
   "source": [
    "datasets1 = {\n",
    "    'education_1_df': 'Datasets/campus-placement-prediction.csv',\n",
    "    'education_2_df': 'Datasets/predict-dropout-or-academic-success.csv',\n",
    "    'education_3_df': 'Datasets/student-performance-dataset.csv',\n",
    "    'finance_1_df': 'Datasets/bank-customer-churn-prediction.csv',\n",
    "    'finance_2_df': 'Datasets/financial-risk-for-loan-approval.csv',\n",
    "    'finance_3_df': 'Datasets/loan-approval-classification-dataset.csv',\n",
    "    'health_1_df': 'Datasets/fetal-health-classifiation.csv',\n",
    "    'health_2_df': 'Datasets/heart-disease-health-indicators-dataset.csv',\n",
    "    'health_3_df': 'Datasets/patient-treatment-classification.csv'\n",
    "}\n",
    "\n",
    "anomalous_datasets1 = {\n",
    "    'a_education_1_df': 'Datasets/campus-placement-prediction_anomaly.csv',\n",
    "    'a_education_2_df': 'Datasets/predict-dropout-or-academic-success_anomaly.csv',\n",
    "    'a_education_3_df': 'Datasets/student-performance-dataset_anomaly.csv',\n",
    "    'a_finance_1_df': 'Datasets/bank-customer-churn-prediction_anomaly.csv',\n",
    "    'a_finance_2_df': 'Datasets/financial-risk-for-loan-approval_anomaly.csv',\n",
    "    'a_finance_3_df': 'Datasets/loan-approval-classification-dataset_anomaly.csv',\n",
    "    'a_health_1_df': 'Datasets/fetal-health-classifiation_anomaly.csv',\n",
    "    'a_health_2_df': 'Datasets/heart-disease-health-indicators-dataset_anomaly.csv',\n",
    "    'a_health_3_df': 'Datasets/patient-treatment-classification_anomaly.csv'\n",
    "}\n"
   ]
  },
  {
   "cell_type": "code",
   "execution_count": 4,
   "id": "4db88747-3aec-4d6d-b72d-f1df9461e736",
   "metadata": {},
   "outputs": [],
   "source": [
    "datasets = {\n",
    "    'education_2_df': 'Datasets/predict-dropout-or-academic-success.csv'\n",
    "}\n",
    "\n",
    "anomalous_datasets = {\n",
    "    'a_education_2_df': 'Datasets/predict-dropout-or-academic-success_anomaly.csv'\n",
    "}\n"
   ]
  },
  {
   "cell_type": "code",
   "execution_count": 5,
   "id": "bbad315a-a204-4208-808a-baa4eeb8bd5d",
   "metadata": {},
   "outputs": [],
   "source": [
    "def cell_generation(dataframe: pd.DataFrame, column: str, filename: str) -> pd.DataFrame:\n",
    "\n",
    "    if not dataframe[column].isna().any():\n",
    "        return dataframe \n",
    "        \n",
    "    X = dataframe.drop(columns=[column])\n",
    "    y = dataframe[column]\n",
    "\n",
    "    known_values = y.notna()\n",
    "    unknown_values = y.isna()\n",
    "\n",
    "    X_train = X[known_values]\n",
    "    y_train = y[known_values]\n",
    "\n",
    "    X_test = X[unknown_values]\n",
    "\n",
    "    model = RandomForestRegressor(n_estimators=100, random_state=42)\n",
    "    model.fit(X_train, y_train)\n",
    "\n",
    "    y_pred = model.predict(X_test)\n",
    "\n",
    "    dataframe.loc[dataframe.index[unknown_values], column] = y_pred\n",
    "    \n",
    "    dataframe.to_csv(filename, index=False)\n",
    "    \n",
    "    return dataframe"
   ]
  },
  {
   "cell_type": "code",
   "execution_count": 6,
   "id": "ce31ef25-1815-46e8-9fac-ef2006780267",
   "metadata": {},
   "outputs": [],
   "source": [
    "def generate_cell_values() -> None:\n",
    "    for df_name, file_path in anomalous_datasets.items():\n",
    "        df = pd.read_csv(file_path)\n",
    "        used_cols = [col for col in df.columns if df[col].nunique() > 50]\n",
    "        for col in used_cols:\n",
    "            df = cell_generation(df, col, file_path)\n",
    "        classify(df, file_path)"
   ]
  },
  {
   "cell_type": "code",
   "execution_count": null,
   "id": "45133e38-1e0e-44e4-a900-c0d0960c6a08",
   "metadata": {},
   "outputs": [],
   "source": []
  },
  {
   "cell_type": "code",
   "execution_count": null,
   "id": "f36bc5f0-ef6d-4d9e-9436-ca50b1ad5885",
   "metadata": {},
   "outputs": [],
   "source": []
  },
  {
   "cell_type": "code",
   "execution_count": null,
   "id": "8a828952-c1de-43ca-93e2-0d76f2d9c2da",
   "metadata": {},
   "outputs": [],
   "source": []
  },
  {
   "cell_type": "code",
   "execution_count": null,
   "id": "7cdfa7da-3aef-4a73-9e3a-9dec184c9002",
   "metadata": {},
   "outputs": [],
   "source": []
  },
  {
   "cell_type": "code",
   "execution_count": null,
   "id": "83b9458f-0e2e-472b-afee-81cb31f9759e",
   "metadata": {},
   "outputs": [],
   "source": []
  }
 ],
 "metadata": {
  "kernelspec": {
   "display_name": "venv",
   "language": "python",
   "name": "venv"
  },
  "language_info": {
   "codemirror_mode": {
    "name": "ipython",
    "version": 3
   },
   "file_extension": ".py",
   "mimetype": "text/x-python",
   "name": "python",
   "nbconvert_exporter": "python",
   "pygments_lexer": "ipython3",
   "version": "3.11.9"
  }
 },
 "nbformat": 4,
 "nbformat_minor": 5
}
