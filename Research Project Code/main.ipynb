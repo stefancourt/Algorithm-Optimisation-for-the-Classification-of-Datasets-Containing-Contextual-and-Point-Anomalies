{
 "cells": [
  {
   "cell_type": "code",
   "execution_count": 88,
   "id": "8a330a74-fca4-4799-92ff-785dfbd44e25",
   "metadata": {},
   "outputs": [
    {
     "name": "stdout",
     "output_type": "stream",
     "text": [
      "['Previous qualification (grade)', 'Admission grade', 'Curricular units 1st sem (grade)', 'Curricular units 2nd sem (grade)']\n"
     ]
    }
   ],
   "source": [
    "%run \"Anomaly Generation.ipynb\"\n",
    "%run \"Cell Generation.ipynb\""
   ]
  },
  {
   "cell_type": "code",
   "execution_count": 89,
   "id": "f69996e4-5a6c-4dc2-85cc-605a2ae1a906",
   "metadata": {},
   "outputs": [],
   "source": [
    "def run_everything(rows=0.2, point=0.1, contextual=0.1, threshold=0.61, nu=0.999,  eps=1):\n",
    "    classify_datasets()\n",
    "    true_set = run_inject(rows, point, contextual)\n",
    "    classify_anomalous()\n",
    "    run_isolation_forest(threshold)\n",
    "    detected_set = classify_anomalous()\n",
    "    generate_cell_values()\n",
    "\n",
    "    for i in range(0, 1):\n",
    "        # ✅ Convert lists to sets before using intersection\n",
    "        correctly_detected = set(detected_set[i]).intersection(set(true_set[i]))\n",
    "\n",
    "        # Calculate percentage\n",
    "        if len(true_set[i]) == 0:\n",
    "            print(f\"Set {i}: No true anomalies, accuracy = 0%\")\n",
    "            continue  # Skip to next iteration\n",
    "\n",
    "        print(len(detected_set[i]))\n",
    "        print(len(true_set[i]))\n",
    "        accuracy_percentage = (len(correctly_detected) / len(true_set[i])) * 100\n",
    "        print(f\"Set {i}: Detection Accuracy = {accuracy_percentage:.2f}%\")\n",
    "\n",
    "\n",
    "    for i in range(0, 1):\n",
    "        indices1 = {tup[0] for tup in detected_set[i]}\n",
    "        indices2 = {tup[0] for tup in true_set[i]}\n",
    "    \n",
    "        # Find the intersection (common indices)\n",
    "        common_indices = set(indices1).intersection(set(indices2))\n",
    "        print(len(common_indices))\n",
    "        print(len(indices1))\n",
    "        print(len(indices2))\n",
    "    \n",
    "        accuracy_percentage = (len(common_indices) / len(indices2)) * 100\n",
    "        print(f\"Set {i}: Detection Accuracy = {accuracy_percentage:.2f}%\")\n",
    "\n"
   ]
  },
  {
   "cell_type": "code",
   "execution_count": 90,
   "id": "9fe7ba38-208f-4a0a-9cb4-e63edc682583",
   "metadata": {},
   "outputs": [],
   "source": [
    "# All anomalies are only added to continuous columns\n",
    "# run_everything(0.1, 0.4, 0.4, threshold=0.7, nu=0.998, eps=0.95) \n",
    "# Dataset 1e:\n",
    "# original-0.796\n",
    "# anomalies-0.744\n",
    "# anomalies dropped     whole set-0.642, whats left-0.875\n",
    "# cell generation-0.813\n",
    "# row-42.58%"
   ]
  },
  {
   "cell_type": "code",
   "execution_count": 91,
   "id": "66c820d7-815f-4892-91ca-f5a6c0fca36b",
   "metadata": {},
   "outputs": [],
   "source": [
    "# run_everything(0.1, 0.4, 0.4, threshold=0.63, nu=0.95, eps=0.95) \n",
    "# Dataset 2e:\n",
    "# original-0.762\n",
    "# anomalies-0.768\n",
    "# anomalies dropped     whole set-0.65, whats left-0.778\n",
    "# cell generation-0.776\n",
    "# accuracy-59.21   row-79.32"
   ]
  },
  {
   "cell_type": "code",
   "execution_count": 92,
   "id": "a817a9eb-1c29-460b-951b-1abb08b90569",
   "metadata": {},
   "outputs": [],
   "source": [
    "# run_everything(0.2, 0.4, 0.4, threshold=0.61, nu=0.91, eps=0.95) \n",
    "# Dataset 2e:\n",
    "# original-0.762\n",
    "# anomalies-0.755\n",
    "# anomalies dropped     whole set-0.57, whats left-0.781\n",
    "# cell generation-0.763\n",
    "# accuracy-56.08   row-79.86"
   ]
  },
  {
   "cell_type": "code",
   "execution_count": 93,
   "id": "57fc9505-8c7f-4d95-9853-6027a638b831",
   "metadata": {},
   "outputs": [],
   "source": [
    "# run_everything(0.1, 0.8, 0.0, threshold=0.64, nu=0.95, eps=0.95) \n",
    "# Dataset 2e:\n",
    "# original-0.762\n",
    "# anomalies-0.759\n",
    "# anomalies dropped     whole set-0.656, whats left-0.771\n",
    "# cell generation-0.760\n",
    "# accuracy-67.66   row-88.66"
   ]
  },
  {
   "cell_type": "code",
   "execution_count": 94,
   "id": "5f39e7cd-aa99-474d-8fb1-d44abfa84e2f",
   "metadata": {},
   "outputs": [],
   "source": [
    "# run_everything(0.1, 0.0, 0.8, threshold=0.63, nu=0.94, eps=0.95) \n",
    "# Dataset 2e:\n",
    "# original-0.762\n",
    "# anomalies-0.766\n",
    "# anomalies dropped     whole set-0.635, whats left-0.768\n",
    "# cell generation-0.760\n",
    "# accuracy-41.26  row-65.38"
   ]
  },
  {
   "cell_type": "code",
   "execution_count": 95,
   "id": "14d23443-df80-43db-84f6-85d29bfb7dbc",
   "metadata": {},
   "outputs": [],
   "source": [
    "# run_everything90.1, 0.4, 0.4, threshold=0.67, nu=0.98, eps=0.95)\n",
    "# Dataset 3h:\n",
    "# original-0.760\n",
    "# anomalies-0.747\n",
    "# anomalies dropped     whole set-0.544, whats left-0.756\n",
    "# cell generation-0.776\n",
    "# accuracy-35.51   row-87.76"
   ]
  },
  {
   "cell_type": "code",
   "execution_count": null,
   "id": "c83a00ab-e7f9-4278-acb1-583662bddad6",
   "metadata": {},
   "outputs": [],
   "source": []
  },
  {
   "cell_type": "code",
   "execution_count": null,
   "id": "ebb9d594-f286-472f-b54a-a6ef4e582653",
   "metadata": {},
   "outputs": [],
   "source": []
  },
  {
   "cell_type": "code",
   "execution_count": 96,
   "id": "9cf98f9f-6140-4528-9ab7-3a522bacc93a",
   "metadata": {},
   "outputs": [],
   "source": [
    "# run_everything(0.1, 0.4, 0.4, threshold=0.63, nu=0.95, eps=0.95) \n",
    "# Dataset 2e:\n",
    "# original-0.762\n",
    "# anomalies-0.768\n",
    "# anomalies dropped     whole set-0.65, whats left-0.778\n",
    "# cell generation-0.776\n",
    "# accuracy-59.21   row-79.32"
   ]
  },
  {
   "cell_type": "code",
   "execution_count": 97,
   "id": "72d5c405-647f-4c69-8af7-fade539f8984",
   "metadata": {},
   "outputs": [],
   "source": [
    "# run_everything(0.1, 0.4, 0.4, threshold=0.63, nu=0.95, eps=0.95) \n",
    "# Dataset 2e:\n",
    "# original-0.762\n",
    "# anomalies-0.768\n",
    "# anomalies dropped     whole set-0.65, whats left-0.778\n",
    "# cell generation-0.776\n",
    "# accuracy-59.21   row-79.32"
   ]
  },
  {
   "cell_type": "code",
   "execution_count": null,
   "id": "b93e994b-18c1-4c81-a876-39a3e2b0355b",
   "metadata": {},
   "outputs": [],
   "source": []
  },
  {
   "cell_type": "code",
   "execution_count": null,
   "id": "caee3d68-9a39-4253-90ed-34e8bcdaf270",
   "metadata": {},
   "outputs": [],
   "source": []
  },
  {
   "cell_type": "code",
   "execution_count": null,
   "id": "80170b35-64b9-4885-ac1a-abf09d2821fe",
   "metadata": {},
   "outputs": [],
   "source": []
  },
  {
   "cell_type": "code",
   "execution_count": 104,
   "id": "a02946e7-11f6-4c17-8cf4-50ea39524f6a",
   "metadata": {},
   "outputs": [
    {
     "name": "stdout",
     "output_type": "stream",
     "text": [
      "4424\n",
      "Dataset: Datasets/predict-dropout-or-academic-success.csv\n",
      "Shape after dropping missing values: (4424, 37)\n",
      "Test set size: (3539, 36)\n",
      "Accuracy: 0.7615819209039548\n",
      "Accuracy Whole: 0.7615819209039548\n",
      "4424\n",
      "Dataset: Datasets/predict-dropout-or-academic-success_anomaly.csv\n",
      "Shape after dropping missing values: (4424, 37)\n",
      "Test set size: (3539, 36)\n",
      "Accuracy: 0.7615819209039548\n",
      "Accuracy Whole: 0.7615819209039548\n",
      "['Previous qualification (grade)', 'Admission grade', 'Curricular units 1st sem (grade)', 'Curricular units 2nd sem (grade)']\n",
      "4424\n",
      "Dataset: Datasets/predict-dropout-or-academic-success_anomaly.csv\n",
      "Shape after dropping missing values: (4396, 37)\n",
      "Test set size: (3516, 36)\n",
      "Accuracy: 0.759090909090909\n",
      "Accuracy Whole: 0.7542865362485615\n",
      "Total time taken: 41.558878898620605 seconds\n",
      "4424\n",
      "Dataset: Datasets/predict-dropout-or-academic-success_anomaly.csv\n",
      "Shape after dropping missing values: (4396, 37)\n",
      "Test set size: (3516, 36)\n",
      "Accuracy: 0.759090909090909\n",
      "Accuracy Whole: 0.7542865362485615\n",
      "4424\n",
      "Dataset: Datasets/predict-dropout-or-academic-success_anomaly.csv\n",
      "Shape after dropping missing values: (4424, 37)\n",
      "Test set size: (3539, 36)\n",
      "Accuracy: 0.7581920903954802\n",
      "Accuracy Whole: 0.7581920903954802\n",
      "56\n",
      "1412\n",
      "Set 0: Detection Accuracy = 2.62%\n",
      "22\n",
      "28\n",
      "442\n",
      "Set 0: Detection Accuracy = 4.98%\n"
     ]
    }
   ],
   "source": [
    "run_everything(0.1, 0.4, 0.4, threshold=0.5, eps=0.95) "
   ]
  },
  {
   "cell_type": "code",
   "execution_count": null,
   "id": "7af9a8d6-5a2a-4c7d-b3f2-d6487899f88f",
   "metadata": {},
   "outputs": [],
   "source": []
  }
 ],
 "metadata": {
  "kernelspec": {
   "display_name": "venv",
   "language": "python",
   "name": "venv"
  },
  "language_info": {
   "codemirror_mode": {
    "name": "ipython",
    "version": 3
   },
   "file_extension": ".py",
   "mimetype": "text/x-python",
   "name": "python",
   "nbconvert_exporter": "python",
   "pygments_lexer": "ipython3",
   "version": "3.11.9"
  }
 },
 "nbformat": 4,
 "nbformat_minor": 5
}
