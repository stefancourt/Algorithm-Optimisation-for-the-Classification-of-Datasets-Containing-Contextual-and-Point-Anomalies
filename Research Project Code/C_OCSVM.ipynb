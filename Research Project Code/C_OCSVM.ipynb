{
 "cells": [
  {
   "cell_type": "code",
   "execution_count": 1,
   "id": "f333be34-9669-4770-8091-815a11cec282",
   "metadata": {},
   "outputs": [],
   "source": [
    "import pandas as pd\n",
    "import matplotlib.pyplot as plt\n",
    "import sys\n",
    "import os\n",
    "import platform\n",
    "\n",
    "if platform.system() == 'Windows':\n",
    "    build_path = os.path.join(os.getcwd(), \"build\", \"Debug\")\n",
    "elif platform.system() == 'Darwin':  # macOS\n",
    "    build_path = os.path.join(os.getcwd(), \"build\")\n",
    "else:\n",
    "    raise EnvironmentError(\"Unsupported operating system\")\n",
    "\n",
    "sys.path.append(build_path)\n",
    " \n",
    "import ocsvm"
   ]
  },
  {
   "cell_type": "code",
   "execution_count": 2,
   "id": "4979f0ac-6e62-4d90-a188-75181f5525fe",
   "metadata": {},
   "outputs": [],
   "source": [
    "def c_ocsvm() -> None:\n",
    "    df = pd.read_csv('Datasets/predict-dropout-or-academic-success.csv')\n",
    "    \n",
    "    # Extract the desired columns as (index, x, y) tuples\n",
    "    data = [(i, row['Previous qualification (grade)'], row['Admission grade']) for i, row in df.iterrows()]\n",
    "    \n",
    "    # Initialize the OC-SVM model\n",
    "    model = ocsvm.OCSVM(nu=0.999, kernel=\"rbf\", gamma=0.9)\n",
    "    \n",
    "    # Train the model\n",
    "    model.fit([point[1:] for point in data])  # Only use the x and y values for training\n",
    "    \n",
    "    # Classify points and separate inliers and outliers\n",
    "    inliers_data = []\n",
    "    outliers_data = []\n",
    "    \n",
    "    for point, label in zip(data, [model.predict(point[1:]) for point in data]):\n",
    "        if label == 1:  # Inlier\n",
    "            inliers_data.append(point)\n",
    "        else:  # Outlier\n",
    "            outliers_data.append(point)\n",
    "    \n",
    "    print(\"Outliers:\")\n",
    "    for point in outliers_data:\n",
    "        print(f\"Index: {point[0]}, x: {point[1]}, y: {point[2]}\")\n",
    "    \n",
    "    # Remove the outliers from the original dataframe\n",
    "    outlier_indices = [point[0] for point in outliers_data]\n",
    "    cleaned_df = df.drop(index=outlier_indices)\n",
    "    \n",
    "    # Optionally, you can save the cleaned dataset with outliers removed\n",
    "    cleaned_df.to_csv('Datasets/predict-dropout-or-academic-success-cleaned.csv', index=False)\n",
    "    \n",
    "    # Plot inliers and outliers\n",
    "    inliers_x = [point[1] for point in inliers_data]\n",
    "    inliers_y = [point[2] for point in inliers_data]\n",
    "    outliers_x = [point[1] for point in outliers_data]\n",
    "    outliers_y = [point[2] for point in outliers_data]\n",
    "    \n",
    "    plt.figure(figsize=(10, 6))\n",
    "    plt.scatter(inliers_x, inliers_y, c='blue', label='Inliers', marker='o')\n",
    "    plt.scatter(outliers_x, outliers_y, c='red', label='Outliers', marker='x')\n",
    "    plt.title('Inliers and Outliers')\n",
    "    plt.xlabel('Previous qualification (grade)')\n",
    "    plt.ylabel('Admission grade')\n",
    "    plt.legend()\n",
    "    plt.grid(True)\n",
    "    plt.show()"
   ]
  }
 ],
 "metadata": {
  "kernelspec": {
   "display_name": "venv",
   "language": "python",
   "name": "venv"
  },
  "language_info": {
   "codemirror_mode": {
    "name": "ipython",
    "version": 3
   },
   "file_extension": ".py",
   "mimetype": "text/x-python",
   "name": "python",
   "nbconvert_exporter": "python",
   "pygments_lexer": "ipython3",
   "version": "3.11.9"
  }
 },
 "nbformat": 4,
 "nbformat_minor": 5
}
