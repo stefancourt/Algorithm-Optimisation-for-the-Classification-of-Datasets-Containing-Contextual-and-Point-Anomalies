{
 "cells": [
  {
   "cell_type": "code",
   "execution_count": 15,
   "id": "78fb6b00-10ef-4653-ab22-56639d3e9a29",
   "metadata": {},
   "outputs": [],
   "source": [
    "import numpy as np\n",
    "import pandas as pd\n",
    "import random"
   ]
  },
  {
   "cell_type": "code",
   "execution_count": 16,
   "id": "5b348ddc-bf1f-4f6d-8979-5fa52c3c28c7",
   "metadata": {},
   "outputs": [],
   "source": [
    "%run Algorithms.ipynb"
   ]
  },
  {
   "cell_type": "code",
   "execution_count": 28,
   "id": "2f3cd975-8d8d-481f-8f95-2b2b38d9458d",
   "metadata": {},
   "outputs": [],
   "source": [
    "education_1_df = pd.read_csv('Datasets/campus-placement-prediction.csv')\n",
    "education_2_df = pd.read_csv('Datasets/predict-dropout-or-academic-success.csv')\n",
    "education_3_df = pd.read_csv('Datasets/student-performance-dataset.csv')"
   ]
  },
  {
   "cell_type": "code",
   "execution_count": 29,
   "id": "687477f3-40d8-4066-8973-f4a5bf154526",
   "metadata": {},
   "outputs": [
    {
     "name": "stdout",
     "output_type": "stream",
     "text": [
      "sl_no\n",
      "<class 'pandas.core.frame.DataFrame'>\n",
      "RangeIndex: 215 entries, 0 to 214\n",
      "Data columns (total 13 columns):\n",
      " #   Column          Non-Null Count  Dtype  \n",
      "---  ------          --------------  -----  \n",
      " 0   gender          215 non-null    float64\n",
      " 1   ssc_p           215 non-null    float64\n",
      " 2   ssc_b           215 non-null    float64\n",
      " 3   hsc_p           215 non-null    float64\n",
      " 4   hsc_b           215 non-null    float64\n",
      " 5   hsc_s           215 non-null    float64\n",
      " 6   degree_p        215 non-null    float64\n",
      " 7   degree_t        215 non-null    float64\n",
      " 8   workex          215 non-null    float64\n",
      " 9   etest_p         215 non-null    float64\n",
      " 10  specialisation  215 non-null    float64\n",
      " 11  mba_p           215 non-null    float64\n",
      " 12  status          215 non-null    float64\n",
      "dtypes: float64(13)\n",
      "memory usage: 22.0 KB\n",
      "<class 'pandas.core.frame.DataFrame'>\n",
      "RangeIndex: 4424 entries, 0 to 4423\n",
      "Data columns (total 37 columns):\n",
      " #   Column                                          Non-Null Count  Dtype  \n",
      "---  ------                                          --------------  -----  \n",
      " 0   Marital status                                  4424 non-null   int64  \n",
      " 1   Application mode                                4424 non-null   int64  \n",
      " 2   Application order                               4424 non-null   int64  \n",
      " 3   Course                                          4424 non-null   int64  \n",
      " 4   Daytime/evening attendance                      4424 non-null   int64  \n",
      " 5   Previous qualification                          4424 non-null   int64  \n",
      " 6   Previous qualification (grade)                  4424 non-null   float64\n",
      " 7   Nacionality                                     4424 non-null   int64  \n",
      " 8   Mother's qualification                          4424 non-null   int64  \n",
      " 9   Father's qualification                          4424 non-null   int64  \n",
      " 10  Mother's occupation                             4424 non-null   int64  \n",
      " 11  Father's occupation                             4424 non-null   int64  \n",
      " 12  Admission grade                                 4424 non-null   float64\n",
      " 13  Displaced                                       4424 non-null   int64  \n",
      " 14  Educational special needs                       4424 non-null   int64  \n",
      " 15  Debtor                                          4424 non-null   int64  \n",
      " 16  Tuition fees up to date                         4424 non-null   int64  \n",
      " 17  Gender                                          4424 non-null   int64  \n",
      " 18  Scholarship holder                              4424 non-null   int64  \n",
      " 19  Age at enrollment                               4424 non-null   int64  \n",
      " 20  International                                   4424 non-null   int64  \n",
      " 21  Curricular units 1st sem (credited)             4424 non-null   int64  \n",
      " 22  Curricular units 1st sem (enrolled)             4424 non-null   int64  \n",
      " 23  Curricular units 1st sem (evaluations)          4424 non-null   int64  \n",
      " 24  Curricular units 1st sem (approved)             4424 non-null   int64  \n",
      " 25  Curricular units 1st sem (grade)                4424 non-null   float64\n",
      " 26  Curricular units 1st sem (without evaluations)  4424 non-null   int64  \n",
      " 27  Curricular units 2nd sem (credited)             4424 non-null   int64  \n",
      " 28  Curricular units 2nd sem (enrolled)             4424 non-null   int64  \n",
      " 29  Curricular units 2nd sem (evaluations)          4424 non-null   int64  \n",
      " 30  Curricular units 2nd sem (approved)             4424 non-null   int64  \n",
      " 31  Curricular units 2nd sem (grade)                4424 non-null   float64\n",
      " 32  Curricular units 2nd sem (without evaluations)  4424 non-null   int64  \n",
      " 33  Unemployment rate                               4424 non-null   float64\n",
      " 34  Inflation rate                                  4424 non-null   float64\n",
      " 35  GDP                                             4424 non-null   float64\n",
      " 36  Target                                          4424 non-null   float64\n",
      "dtypes: float64(8), int64(29)\n",
      "memory usage: 1.2 MB\n",
      "StudentID\n",
      "<class 'pandas.core.frame.DataFrame'>\n",
      "RangeIndex: 2392 entries, 0 to 2391\n",
      "Data columns (total 14 columns):\n",
      " #   Column             Non-Null Count  Dtype  \n",
      "---  ------             --------------  -----  \n",
      " 0   Age                2392 non-null   int64  \n",
      " 1   Gender             2392 non-null   int64  \n",
      " 2   Ethnicity          2392 non-null   int64  \n",
      " 3   ParentalEducation  2392 non-null   int64  \n",
      " 4   StudyTimeWeekly    2392 non-null   float64\n",
      " 5   Absences           2392 non-null   int64  \n",
      " 6   Tutoring           2392 non-null   int64  \n",
      " 7   ParentalSupport    2392 non-null   int64  \n",
      " 8   Extracurricular    2392 non-null   int64  \n",
      " 9   Sports             2392 non-null   int64  \n",
      " 10  Music              2392 non-null   int64  \n",
      " 11  Volunteering       2392 non-null   int64  \n",
      " 12  GPA                2392 non-null   float64\n",
      " 13  GradeClass         2392 non-null   float64\n",
      "dtypes: float64(3), int64(11)\n",
      "memory usage: 261.8 KB\n"
     ]
    }
   ],
   "source": [
    "education_1_df = preprocessing(education_1_df)\n",
    "education_2_df = preprocessing(education_2_df)\n",
    "education_3_df = preprocessing(education_3_df)"
   ]
  },
  {
   "cell_type": "code",
   "execution_count": 30,
   "id": "99ff1658-c8bd-4ccf-a6ed-070ed93879ca",
   "metadata": {},
   "outputs": [],
   "source": [
    "def z_scores(df):\n",
    "    used_cols = [col for col in df.columns if df[col].nunique() > 50]\n",
    "    df_zscore = df[used_cols].apply(lambda col: (col - col.mean()) / col.std())\n",
    "    \n",
    "    return df_zscore"
   ]
  },
  {
   "cell_type": "code",
   "execution_count": 39,
   "id": "b76f50fa-9cb0-4a7b-a1b1-1f94619717be",
   "metadata": {},
   "outputs": [
    {
     "name": "stdout",
     "output_type": "stream",
     "text": [
      "\n",
      "Anomalies detected in finance_1_df:\n",
      "Anomalies in column 'ssc_p':\n",
      "Empty DataFrame\n",
      "Columns: [gender, ssc_p, ssc_b, hsc_p, hsc_b, hsc_s, degree_p, degree_t, workex, etest_p, specialisation, mba_p, status]\n",
      "Index: []\n",
      "Anomalies in column 'hsc_p':\n",
      "     gender  ssc_p  ssc_b  hsc_p  hsc_b  hsc_s  degree_p  degree_t  workex  \\\n",
      "24      0.0   76.5    0.0   97.7    0.0    1.0     78.86       0.0     0.0   \n",
      "177     1.0   73.0    1.0   97.0    0.0    0.0     79.00       1.0     1.0   \n",
      "\n",
      "     etest_p  specialisation  mba_p  status  \n",
      "24      97.4             1.0  74.01     0.0  \n",
      "177     89.0             1.0  70.81     0.0  \n",
      "Anomalies in column 'degree_p':\n",
      "Empty DataFrame\n",
      "Columns: [gender, ssc_p, ssc_b, hsc_p, hsc_b, hsc_s, degree_p, degree_t, workex, etest_p, specialisation, mba_p, status]\n",
      "Index: []\n",
      "Anomalies in column 'etest_p':\n",
      "Empty DataFrame\n",
      "Columns: [gender, ssc_p, ssc_b, hsc_p, hsc_b, hsc_s, degree_p, degree_t, workex, etest_p, specialisation, mba_p, status]\n",
      "Index: []\n",
      "Anomalies in column 'mba_p':\n",
      "Empty DataFrame\n",
      "Columns: [gender, ssc_p, ssc_b, hsc_p, hsc_b, hsc_s, degree_p, degree_t, workex, etest_p, specialisation, mba_p, status]\n",
      "Index: []\n"
     ]
    }
   ],
   "source": [
    "def modified_z_scores(df):\n",
    "    used_cols = [col for col in df.columns if df[col].nunique() > 50]\n",
    "    \n",
    "    modified_z_scores = {}\n",
    "    anomalies = {}\n",
    "    \n",
    "    for col in used_cols:\n",
    "        median = df[col].median()\n",
    "        mad = np.median(np.abs(df[col] - median))\n",
    "\n",
    "        # Avoid division by zero\n",
    "        if mad == 0:\n",
    "            mad = 1e-9  # Small value to avoid division by zero\n",
    "        \n",
    "        # Calculate Modified Z-Scores\n",
    "        mz_scores = 0.6745 * (df[col] - median) / mad\n",
    "\n",
    "        modified_z_scores[col] = mz_scores\n",
    "        \n",
    "        # Detect anomalies where MZ > 3.5\n",
    "        anomalies[col] = df[np.abs(mz_scores) > 3.5]\n",
    "    \n",
    "    return modified_z_scores, anomalies\n",
    "\n",
    "\n",
    "mz_scores_finance_1, anomalies_finance_1 = modified_z_scores(education_1_df)\n",
    "\n",
    "# Print anomalies\n",
    "print(\"\\nAnomalies detected in finance_1_df:\")\n",
    "for col, anomaly_data in anomalies_finance_1.items():\n",
    "    print(f\"Anomalies in column '{col}':\")\n",
    "    print(anomaly_data)"
   ]
  },
  {
   "cell_type": "code",
   "execution_count": 33,
   "id": "d071ae2e-c686-40dd-a3b7-12c804562ae0",
   "metadata": {},
   "outputs": [],
   "source": [
    "def iqr(df):\n",
    "    used_cols = [col for col in df.columns if df[col].nunique() > 50]\n",
    "    for col in used_cols:\n",
    "        Q1 = df[col].quantile(0.25)\n",
    "        Q3 = df[col].quantile(0.75)\n",
    "        \n",
    "        # Calculate IQR\n",
    "        IQR = Q3 - Q1\n",
    "        \n",
    "        # Calculate lower and upper bounds\n",
    "        lower_bound = Q1 - 1.5 * IQR\n",
    "        upper_bound = Q3 + 1.5 * IQR"
   ]
  },
  {
   "cell_type": "code",
   "execution_count": 32,
   "id": "27656ee3-ed69-4d1f-93c2-b277bd2aa0bc",
   "metadata": {},
   "outputs": [
    {
     "name": "stdout",
     "output_type": "stream",
     "text": [
      "['ssc_p', 'hsc_p', 'degree_p', 'etest_p', 'mba_p']\n",
      "['Previous qualification (grade)', 'Admission grade', 'Curricular units 1st sem (grade)', 'Curricular units 2nd sem (grade)']\n",
      "['StudyTimeWeekly', 'GPA']\n",
      "      ssc_p     hsc_p  degree_p   etest_p     mba_p\n",
      "0 -0.028022  2.263530 -1.137448 -1.288085 -0.596255\n",
      "1  1.110776  1.100879  1.509743  1.084626  0.686019\n",
      "2 -0.212741  0.152956 -0.322091  0.218398 -0.767682\n",
      "3 -1.043981 -1.315270 -1.952804 -0.459519 -0.488256\n",
      "4  1.708345  0.666835  0.941712  1.860464 -1.161965\n"
     ]
    }
   ],
   "source": [
    "education_1_zscore = calculate_z_scores(education_1_df)\n",
    "education_2_zscore = calculate_z_scores(education_2_df)\n",
    "education_3_zscore = calculate_z_scores(education_3_df)\n",
    "\n",
    "print(education_1_zscore.head())"
   ]
  },
  {
   "cell_type": "code",
   "execution_count": null,
   "id": "e05ed39d-c469-44c5-9bf8-775698b0357f",
   "metadata": {},
   "outputs": [],
   "source": []
  }
 ],
 "metadata": {
  "kernelspec": {
   "display_name": "virtual env",
   "language": "python",
   "name": "venv"
  },
  "language_info": {
   "codemirror_mode": {
    "name": "ipython",
    "version": 3
   },
   "file_extension": ".py",
   "mimetype": "text/x-python",
   "name": "python",
   "nbconvert_exporter": "python",
   "pygments_lexer": "ipython3",
   "version": "3.11.9"
  }
 },
 "nbformat": 4,
 "nbformat_minor": 5
}
